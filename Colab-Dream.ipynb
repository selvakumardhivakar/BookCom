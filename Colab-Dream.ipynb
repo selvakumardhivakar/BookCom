{
  "nbformat": 4,
  "nbformat_minor": 0,
  "metadata": {
    "colab": {
      "name": "Colab-Dream.ipynb",
      "private_outputs": true,
      "provenance": [],
      "collapsed_sections": [
        "J_HFBPyhFVdF"
      ],
      "machine_shape": "hm",
      "include_colab_link": true
    },
    "kernelspec": {
      "name": "python3",
      "display_name": "Python 3"
    },
    "accelerator": "GPU"
  },
  "cells": [
    {
      "cell_type": "markdown",
      "metadata": {
        "id": "view-in-github",
        "colab_type": "text"
      },
      "source": [
        "<a href=\"https://colab.research.google.com/github/selvakumardhivakar/BookCom/blob/master/Colab-Dream.ipynb\" target=\"_parent\"><img src=\"https://colab.research.google.com/assets/colab-badge.svg\" alt=\"Open In Colab\"/></a>"
      ]
    },
    {
      "cell_type": "markdown",
      "metadata": {
        "id": "EAsnwUwcvBxY"
      },
      "source": [
        "# Dream for Colab\n",
        "\n",
        "Original repo: [dreamnettech/dreampower](https://github.com/dreamnettech/dreampower/tree/v1.2.10)\n",
        "\n",
        "Colab: [FirstDee/dreamtime-v1.ipynb](https://gist.github.com/FirstDee/c3a94ff37e0561e597b65160aabbbc07)\n",
        "\n",
        "This colab only points out how the output resolution can be configured and compressed the amount of cells. Thanks to FirstDee for creating the Colab."
      ]
    },
    {
      "cell_type": "code",
      "metadata": {
        "id": "gieOCeeFZRge",
        "cellView": "form"
      },
      "source": [
        ""
      ],
      "execution_count": null,
      "outputs": []
    },
    {
      "cell_type": "markdown",
      "metadata": {
        "id": "Az0x0Tsk1nMM"
      },
      "source": [
        "# Project Setup\n",
        "v1.2.10 contains --image-size, which can be applied in the last cell, but the output tends to look bad. Automatic mask creation seems to be pretty bad with this resolution. Only use this if you want to experiment. You may need to change overlay_size as well.\n",
        "\n",
        "It may take a few minutes to load the program. Please be patient."
      ]
    },
    {
      "cell_type": "code",
      "metadata": {
        "id": "eVHv6EfGKj-s",
        "cellView": "form"
      },
      "source": [
        ""
      ],
      "execution_count": null,
      "outputs": []
    },
    {
      "cell_type": "code",
      "metadata": {
        "id": "LtamZP_bXF-2",
        "cellView": "form"
      },
      "source": [
        ""
      ],
      "execution_count": null,
      "outputs": []
    },
    {
      "cell_type": "markdown",
      "metadata": {
        "id": "i1qluWsfGXp_"
      },
      "source": [
        "# Upload Images for Processing"
      ]
    },
    {
      "cell_type": "code",
      "metadata": {
        "id": "BNnLM_onG819",
        "cellView": "form"
      },
      "source": [
        ""
      ],
      "execution_count": null,
      "outputs": []
    },
    {
      "cell_type": "markdown",
      "metadata": {
        "id": "J_HFBPyhFVdF"
      },
      "source": [
        "# Upload Custom Mask (Advanced)"
      ]
    },
    {
      "cell_type": "code",
      "metadata": {
        "id": "ISdfN0Wtr7XG",
        "cellView": "form"
      },
      "source": [
        "#@title Upload Custom Mask\n",
        "\n",
        "#@markdown You may upload a custom mask during runtime by checking the box below. This applies only if you upload one input image.\n",
        "use_custom_maskfin = False #@param {type:\"boolean\"}\n",
        "\n",
        "#@markdown The mask must be in PNG format in 512x512 size. [See this image for examples of each mask step](https://github.com/dreamnettech/dreampower/blob/v1.2.5/assets/transformation.jpg).\n",
        "#@markdown\n",
        "#@markdown When drawing your own mask, consider starting from an existing mask step, such as `DressToCorrect.png`. Run your input image normally, then look in the `/content/dreampower/work/altered` directory for existing masks.\n",
        "\n",
        "from google.colab import files\n",
        "import hashlib\n",
        "\n",
        "#@markdown If you wish to use existing image steps, specify the `altered` directory here:\n",
        "custom_altered_dir = '' #@param {type:'string'}\n",
        "#@markdown Specify the step to begin processing. Steps with corresponding images:\n",
        "#@markdown ```\n",
        "#@markdown - :                    [ImageToCrop.png]\n",
        "#@markdown - :                    [ImageToResized.png]\n",
        "#@markdown 0 : dress -> correct   [DressToCorrect.png]\n",
        "#@markdown 1 : correct -> mask    [CorrectToMask.png]\n",
        "#@markdown 2 : mask -> maskref    [MaskToMaskref.png]\n",
        "#@markdown 3 : maskref -> maskdet [MaskrefToMaskdet.png]\n",
        "#@markdown 4 : maskdet -> maskfin [MaskdetToMaskfin.png]\n",
        "#@markdown 5 : maskfin -> nude    [MaskfinToNude.png]\n",
        "#@markdown - :                    [ImageToOverlay.png]\n",
        "#@markdown ```\n",
        "#@markdown These settings apply only if you are uploading a custom mask.\n",
        "starting_step = 5 #@param {type:\"integer\"}\n",
        "ending_step = 5 #@param {type:\"integer\"}\n",
        "mask_n_runs = 1 #@param {type:\"integer\"}\n",
        "\n",
        "input_mask_dir = ''\n",
        "\n",
        "step_names = ['DressToCorrect.png','CorrectToMask.png','MaskToMaskref.png','MaskrefToMaskdet.png','MaskdetToMaskfin.png','MaskfinToNude.png']\n",
        "\n",
        "if use_custom_maskfin:\n",
        "  if starting_step < 1:\n",
        "    raise('Must use custom mask step between 1 and 5. If using 0, then disable `use_custom_maskfin`.')\n",
        "    \n",
        "  if len(os.listdir(input_dir)) != 1:\n",
        "    raise('Custom masks can only be used with one input image.')\n",
        "\n",
        "  if os.path.isdir(custom_altered_dir):\n",
        "    input_mask_dir = custom_altered_dir\n",
        "  else:\n",
        "    input_mask_dir = os.path.join(temp_dir, 'masks')\n",
        "    if os.path.exists(input_mask_dir):\n",
        "      shutil.rmtree(input_mask_dir)\n",
        "    os.makedirs(input_mask_dir)\n",
        "\n",
        "  # Construct altered subdir for input file\n",
        "  # See processing/image.py line 34 v1.2.5\n",
        "  input_fn = os.path.join(input_dir, os.listdir(input_dir)[0])\n",
        "  input_basename = os.path.splitext(os.listdir(input_dir)[0])[0]\n",
        "  input_hashedname = f'{input_basename}_{str(hashlib.md5(open(input_fn, \"rb\").read()).hexdigest())}'\n",
        "  input_mask_subdir = os.path.join(input_mask_dir, input_hashedname)\n",
        "  os.makedirs(input_mask_subdir, exist_ok=True)\n",
        "\n",
        "  %cd \"{temp_dir}\"\n",
        "\n",
        "  inputs = files.upload()\n",
        "\n",
        "  for i, fn in enumerate(inputs.keys()):\n",
        "    if not '.png' in fn.lower():\n",
        "      raise('Mask must be in PNG format.')\n",
        "    with open(os.path.join(input_mask_subdir, step_names[starting_step-1]), 'wb') as f:\n",
        "      f.write(bytearray(inputs[fn]))\n",
        "    \n",
        "    if i < 5:\n",
        "      display(Image(os.path.join(input_mask_subdir, step_names[starting_step-1]), width=512))\n",
        "\n",
        "  if len(inputs) > 5:\n",
        "      print('Displayed the first 5 images for processing.')\n",
        "\n",
        "  # HACK: Copy Maskfin to the other step images, because dreampower expects them.\n",
        "  # This has no effect on the MaskfinToNude step.\n",
        "  if not os.path.isdir(custom_altered_dir):\n",
        "    %cd \"{input_mask_subdir}\"\n",
        "    shutil.copyfile(step_names[starting_step-1], 'ImageToCrop.png')\n",
        "    shutil.copyfile(step_names[starting_step-1], 'ImageToResized.png')\n",
        "    for i in range(0, starting_step-1):\n",
        "      shutil.copyfile(step_names[starting_step-1], step_names[i])"
      ],
      "execution_count": null,
      "outputs": []
    },
    {
      "cell_type": "markdown",
      "metadata": {
        "id": "-SeN6XHyFcxv"
      },
      "source": [
        "# Processing"
      ]
    },
    {
      "cell_type": "code",
      "metadata": {
        "id": "dGGes3uvVC8D",
        "cellView": "form"
      },
      "source": [
        ""
      ],
      "execution_count": null,
      "outputs": []
    },
    {
      "cell_type": "code",
      "metadata": {
        "id": "keg_yW18PEOd",
        "cellView": "form"
      },
      "source": [
        ""
      ],
      "execution_count": null,
      "outputs": []
    }
  ]
}